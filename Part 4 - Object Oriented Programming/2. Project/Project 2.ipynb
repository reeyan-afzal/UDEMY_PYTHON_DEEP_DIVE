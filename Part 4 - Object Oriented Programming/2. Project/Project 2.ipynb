{
 "cells": [
  {
   "cell_type": "markdown",
   "metadata": {},
   "source": [
    "### Project 2 - Solution"
   ]
  },
  {
   "cell_type": "code",
   "execution_count": 1,
   "metadata": {},
   "outputs": [],
   "source": [
    "from functools import total_ordering\n",
    "\n",
    "@total_ordering\n",
    "class Mod:\n",
    "    def __init__(self, value, modulus):\n",
    "        if not isinstance(modulus, int):\n",
    "            raise TypeError('Unsupported type for modulus')\n",
    "        if not isinstance(value, int):\n",
    "            raise TypeError('Unsupported type for value')\n",
    "        if modulus <= 0:\n",
    "            raise ValueError('Modulus must be positive')\n",
    "\n",
    "        self._modulus = modulus\n",
    "        self._value = value % modulus  # store residue as the value\n",
    "        \n",
    "    @property\n",
    "    def modulus(self):\n",
    "        return self._modulus\n",
    "    \n",
    "    @property\n",
    "    def value(self):\n",
    "        return self._value\n",
    "    \n",
    "    @value.setter\n",
    "    def value(self, value):\n",
    "        self._value = value\n",
    "    \n",
    "    def __repr__(self):\n",
    "        return f'Mod({self._value}, {self._modulus})'\n",
    "    \n",
    "    def __int__(self):\n",
    "        # calculates the value (residue)\n",
    "        return self.value\n",
    "\n",
    "    def __eq__(self, other):\n",
    "        # calculates congruence (same equivalence class)\n",
    "        if isinstance(other, Mod):\n",
    "            if self.modulus != other.modulus:\n",
    "                return NotImplemented\n",
    "            else:\n",
    "                return self.value == other.value\n",
    "        elif isinstance(other, int):\n",
    "            return other % self.modulus == self.value\n",
    "        else:\n",
    "            return NotImplemented\n",
    "    \n",
    "    def __hash__(self):\n",
    "        return hash((self.value, self.modulus))\n",
    "    \n",
    "    def __neg__(self):\n",
    "        return Mod(-self.value, self.modulus)\n",
    "    \n",
    "    def __add__(self, other):\n",
    "        if isinstance(other, Mod) and self.modulus == other.modulus:\n",
    "            return Mod(self.value + other.value, self.modulus)\n",
    "        if isinstance(other, int):\n",
    "            return Mod(self.value + other, self.modulus)\n",
    "        return NotImplemented\n",
    "    \n",
    "    def __iadd__(self, other):\n",
    "        if isinstance(other, Mod) and self.modulus == other.modulus:\n",
    "            self.value = (self.value + other.value) % self.modulus\n",
    "            return self\n",
    "        elif isinstance(other, int):\n",
    "            self.value = (self.value + other) % self.modulus\n",
    "            return self\n",
    "        return NotImplemented\n",
    "    \n",
    "    def __sub__(self, other):\n",
    "        if isinstance(other, Mod) and self.modulus == other.modulus:\n",
    "            return Mod(self.value - other.value, self.modulus)\n",
    "        if isinstance(other, int):\n",
    "            return Mod(self.value - other, self.modulus)\n",
    "        return NotImplemented\n",
    "    \n",
    "    def __isub__(self, other):\n",
    "        if isinstance(other, Mod) and self.modulus == other.modulus:\n",
    "            self.value = (self.value - other.value) % self.modulus\n",
    "            return self\n",
    "        if isinstance(other, int):\n",
    "            self.value = (self.value - other) % self.modulus\n",
    "            return self\n",
    "        return NotImplemented\n",
    "        \n",
    "    def __mul__(self, other):\n",
    "        if isinstance(other, Mod) and self.modulus == other.modulus:\n",
    "            return Mod(self.value * other.value, self.modulus)\n",
    "        if isinstance(other, int):\n",
    "            return Mod(self.value * other, self.modulus)\n",
    "        return NotImplemented\n",
    "    \n",
    "    def __imul__(self, other):\n",
    "        if isinstance(other, Mod) and self.modulus == other.modulus:\n",
    "            self.value = (self.value * other.value) % self.modulus\n",
    "            return self\n",
    "        if isinstance(other, int):\n",
    "            self.value = (self.value * other) % self.modulus\n",
    "            return self\n",
    "        return NotImplemented\n",
    "    \n",
    "    def __pow__(self, other):\n",
    "        if isinstance(other, Mod) and self.modulus == other.modulus:\n",
    "            return Mod(self.value ** other.value, self.modulus)\n",
    "        if isinstance(other, int):\n",
    "            # use residue of other, to make computation potentially smaller\n",
    "            return Mod(self.value ** (other % self.modulus), self.modulus)\n",
    "        return NotImplemented\n",
    "    \n",
    "    def __ipow__(self, other):\n",
    "        if isinstance(other, Mod) and self.modulus == other.modulus:\n",
    "            self.value = (self.value ** other.value) % self.modulus\n",
    "            return self\n",
    "        if isinstance(other, int):\n",
    "            # use residue of other, to make computation potentially smaller\n",
    "            self.value = (self.value ** (other % self.modulus)) % self.modulus\n",
    "            return self\n",
    "        return NotImplemented\n",
    "    \n",
    "    def __lt__(self, other):\n",
    "        if isinstance(other, Mod) and self.modulus == other.modulus:\n",
    "            return self.value < other.value\n",
    "        if isinstance(other, int):\n",
    "            return self.value < other % self.modulus\n",
    "        return NotImplemented"
   ]
  },
  {
   "cell_type": "markdown",
   "metadata": {},
   "source": [
    "You should test this class writing some unit tests!"
   ]
  },
  {
   "cell_type": "markdown",
   "metadata": {},
   "source": [
    "OK, so this class implementation seems to work, but I'm not happy about the amount of repetitive code we had to write (all those checks to make sure we either have a comparable Mod instance, and then either using the value of the Mod instance or the int depending on what was passed in).\n",
    "\n",
    "I really want to do something about that."
   ]
  },
  {
   "cell_type": "markdown",
   "metadata": {},
   "source": [
    "First thing is I'm going to add a \"private\" method that will indicate whether two objects are compatible. Maybe something like this:"
   ]
  },
  {
   "cell_type": "code",
   "execution_count": 2,
   "metadata": {},
   "outputs": [],
   "source": [
    "def _is_compatible(self, other):\n",
    "    return isinstance(other, int) or (isinstance(other, Mod) and self.modulus == other.modulus)"
   ]
  },
  {
   "cell_type": "markdown",
   "metadata": {},
   "source": [
    "But then I'm still left with which value do I use,  `.value` or the `int` itself. So, I'm going to make that part of the compatibility check. \n",
    "\n",
    "Here, I'm going to use exceptions to indicate an incompatible type, otherwise I'll return the value we should use. \n",
    "\n",
    "Something like this:"
   ]
  },
  {
   "cell_type": "code",
   "execution_count": 3,
   "metadata": {},
   "outputs": [],
   "source": [
    "def _get_value(self, other):\n",
    "    if isinstance(other, int):\n",
    "        return other % self.modulus  # return the residue\n",
    "    if isinstance(other, Mod) and self.modulus == other.modulues:\n",
    "        return other.value\n",
    "    raise TypeError('Incompatible types.')"
   ]
  },
  {
   "cell_type": "markdown",
   "metadata": {},
   "source": [
    "And then I can refactor my class accordingly. Also, even though we should technically return `NotImplemented` (to allow Python to use reflection), in this case the reflection is not going to be needed, so I'm just going to let the `TypeError` exception through.\n",
    "\n",
    "The only exception to this is for ordering - we **do** want Python to try to reflect a `<` if `>` is not implemented (although using `@total_ordering` means this does not really matter anyway)."
   ]
  },
  {
   "cell_type": "code",
   "execution_count": 4,
   "metadata": {},
   "outputs": [],
   "source": [
    "from functools import total_ordering\n",
    "\n",
    "@total_ordering\n",
    "class Mod:\n",
    "    def __init__(self, value, modulus):\n",
    "        if not isinstance(modulus, int):\n",
    "            raise TypeError('Unsupported type for modulus')\n",
    "        if not isinstance(value, int):\n",
    "            raise TypeError('Unsupported type for value')\n",
    "        if modulus <= 0:\n",
    "            raise ValueError('Modulus must be positive')\n",
    "\n",
    "        self._modulus = modulus\n",
    "        self._value = value % modulus  # store residue as the value\n",
    "        \n",
    "    @property\n",
    "    def modulus(self):\n",
    "        return self._modulus\n",
    "    \n",
    "    @property\n",
    "    def value(self):\n",
    "        return self._value\n",
    "    \n",
    "    @value.setter\n",
    "    def value(self, value):\n",
    "        self._value = value\n",
    "    \n",
    "    def __repr__(self):\n",
    "        return f'Mod({self._value}, {self._modulus})'\n",
    "    \n",
    "    def __int__(self):\n",
    "        # calculates the value (residue)\n",
    "        return self.value\n",
    "\n",
    "    def _get_value(self, other):\n",
    "        if isinstance(other, int):\n",
    "            return other % self.modulus  # return the residue\n",
    "        if isinstance(other, Mod) and self.modulus == other.modulus:\n",
    "            return other.value\n",
    "        raise TypeError('Incompatible types.')\n",
    "    \n",
    "    def __eq__(self, other):\n",
    "        # calculates congruence (same equivalence class)\n",
    "        other_value = self._get_value(other)\n",
    "        return other_value == self.value\n",
    "    \n",
    "    def __hash__(self):\n",
    "        return hash((self.value, self.modulus))\n",
    "    \n",
    "    def __neg__(self):\n",
    "        return Mod(-self.value, self.modulus)\n",
    "    \n",
    "    def __add__(self, other):\n",
    "        other_value = self._get_value(other)\n",
    "        return Mod(self.value + other_value, self.modulus)\n",
    "    \n",
    "    def __iadd__(self, other):\n",
    "        other_value = self._get_value(other)\n",
    "        self.value = (self.value + other_value) % self.modulus\n",
    "        return self\n",
    "    \n",
    "    def __sub__(self, other):\n",
    "        other_value = self._get_value(other)\n",
    "        return Mod(self.value - other_value, self.modulus)\n",
    "    \n",
    "    def __isub__(self, other):\n",
    "        other_value = self._get_value(other)\n",
    "        self.value = (self.value - other_value) % self.modulus\n",
    "        return self\n",
    "    \n",
    "    def __mul__(self, other):\n",
    "        other_value = self._get_value(other)\n",
    "        return Mod(self.value * other_value, self.modulus)\n",
    "    \n",
    "    def __imul__(self, other):\n",
    "        other_value = self._get_value(other)\n",
    "        self.value = (self.value * other_value) % self.modulus\n",
    "        return self\n",
    "    \n",
    "    def __pow__(self, other):\n",
    "        other_value = self._get_value(other)\n",
    "        return Mod(self.value ** other_value, self.modulus)\n",
    "        \n",
    "    def __ipow__(self, other):\n",
    "        other_value = self._get_value(other)\n",
    "        self.value = (self.value ** other_value) % self.modulus\n",
    "        return self\n",
    "    \n",
    "    def __lt__(self, other):\n",
    "        # here, raising a TypeError instead of returning NotImplemented\n",
    "        # would result in Python not trying the reflection - which we DO want\n",
    "        # although since we are using @total_ordering this does not really matter\n",
    "        try:\n",
    "            other_value = self._get_value(other)\n",
    "            return self.value < other_value\n",
    "        except TypeError:\n",
    "            return NotImplemented"
   ]
  },
  {
   "cell_type": "markdown",
   "metadata": {},
   "source": [
    "Ok, so this is better, but there still quite a bit of repetitive code for the addition, subtraction, multiplcation and power operations - the only thing that changes there is which particular arithmetic operator we are delegating to."
   ]
  },
  {
   "cell_type": "markdown",
   "metadata": {},
   "source": [
    "So, I'm going to use the `operator` module to simplify things even further."
   ]
  },
  {
   "cell_type": "code",
   "execution_count": 5,
   "metadata": {},
   "outputs": [],
   "source": [
    "import operator"
   ]
  },
  {
   "cell_type": "code",
   "execution_count": 6,
   "metadata": {},
   "outputs": [
    {
     "data": {
      "text/plain": [
       "6"
      ]
     },
     "execution_count": 6,
     "metadata": {},
     "output_type": "execute_result"
    }
   ],
   "source": [
    "operator.mul(2, 3)"
   ]
  },
  {
   "cell_type": "code",
   "execution_count": 7,
   "metadata": {},
   "outputs": [
    {
     "data": {
      "text/plain": [
       "5"
      ]
     },
     "execution_count": 7,
     "metadata": {},
     "output_type": "execute_result"
    }
   ],
   "source": [
    "operator.add(2, 3)"
   ]
  },
  {
   "cell_type": "markdown",
   "metadata": {},
   "source": [
    "So, now I'm going to write a generic `_compute` that will perform the requested operation, and return either a new `Mod` object, or do the in-place calculation (I'll use an optional keyword-only arg for this).\n",
    "\n",
    "So, something like this:"
   ]
  },
  {
   "cell_type": "code",
   "execution_count": 8,
   "metadata": {},
   "outputs": [],
   "source": [
    "def _perform_operation(self, other, op, *, in_place=False):\n",
    "    other_value = self._get_value(other)\n",
    "    new_value = op(self.value, other_value)\n",
    "    if in_place:\n",
    "        self.value = new_value % self.modulus\n",
    "        return self\n",
    "    else:\n",
    "        return Mod(new_value, self.modulus)"
   ]
  },
  {
   "cell_type": "markdown",
   "metadata": {},
   "source": [
    "Let's add that to our class and refactor one more time:"
   ]
  },
  {
   "cell_type": "code",
   "execution_count": 9,
   "metadata": {},
   "outputs": [],
   "source": [
    "from functools import total_ordering\n",
    "\n",
    "@total_ordering\n",
    "class Mod:\n",
    "    def __init__(self, value, modulus):\n",
    "        if not isinstance(modulus, int):\n",
    "            raise TypeError('Unsupported type for modulus')\n",
    "        if not isinstance(value, int):\n",
    "            raise TypeError('Unsupported type for value')\n",
    "        if modulus <= 0:\n",
    "            raise ValueError('Modulus must be positive')\n",
    "\n",
    "        self._modulus = modulus\n",
    "        self._value = value % modulus  # store residue as the value\n",
    "        \n",
    "    @property\n",
    "    def modulus(self):\n",
    "        return self._modulus\n",
    "    \n",
    "    @property\n",
    "    def value(self):\n",
    "        return self._value\n",
    "    \n",
    "    @value.setter\n",
    "    def value(self, value):\n",
    "        self._value = value\n",
    "    \n",
    "    def __repr__(self):\n",
    "        return f'Mod({self._value}, {self._modulus})'\n",
    "    \n",
    "    def __int__(self):\n",
    "        # calculates the value (residue)\n",
    "        return self.value\n",
    "\n",
    "    def _get_value(self, other):\n",
    "        if isinstance(other, int):\n",
    "            return other % self.modulus  # return the residue\n",
    "        if isinstance(other, Mod) and self.modulus == other.modulus:\n",
    "            return other.value\n",
    "        raise TypeError('Incompatible types.')\n",
    "    \n",
    "    def _perform_operation(self, other, op, *, in_place=False):\n",
    "        other_value = self._get_value(other)\n",
    "        new_value = op(self.value, other_value)\n",
    "        if in_place:\n",
    "            self.value = new_value % self.modulus\n",
    "            return self\n",
    "        else:\n",
    "            return Mod(new_value, self.modulus)\n",
    "    \n",
    "    def __eq__(self, other):\n",
    "        # calculates congruence (same equivalence class)\n",
    "        other_value = self._get_value(other)\n",
    "        return other_value == self.value\n",
    "    \n",
    "    def __hash__(self):\n",
    "        return hash((self.value, self.modulus))\n",
    "    \n",
    "    def __neg__(self):\n",
    "        return Mod(-self.value, self.modulus)\n",
    "    \n",
    "    def __add__(self, other):\n",
    "        return self._perform_operation(other, operator.add)\n",
    "    \n",
    "    def __iadd__(self, other):\n",
    "        return self._perform_operation(other, operator.add, in_place=True)\n",
    "    \n",
    "    def __sub__(self, other):\n",
    "        return self._perform_operation(other, operator.sub)\n",
    "    \n",
    "    def __isub__(self, other):\n",
    "        return self._perform_operation(other, operator.sub, in_place=True)\n",
    "    \n",
    "    def __mul__(self, other):\n",
    "        return self._perform_operation(other, operator.mul)\n",
    "    \n",
    "    def __imul__(self, other):\n",
    "        return self._perform_operation(other, operator.mul, in_place=True)\n",
    "    \n",
    "    def __pow__(self, other):\n",
    "        return self._perform_operation(other, operator.pow)\n",
    "        \n",
    "    def __ipow__(self, other):\n",
    "        return self._perform_operation(other, operator.pow, in_place=True)\n",
    "    \n",
    "    def __lt__(self, other):\n",
    "        # here, raising a TypeError instead of returning NotImplemented\n",
    "        # would result in Python not trying the reflection - which we DO want\n",
    "        # although since we are using @total_ordering this does not really matter\n",
    "        try:\n",
    "            other_value = self._get_value(other)\n",
    "            return self.value < other_value\n",
    "        except TypeError:\n",
    "            return NotImplemented"
   ]
  },
  {
   "cell_type": "markdown",
   "metadata": {},
   "source": [
    "OK, so if you had your unit tests set up, each refactor we did would only have needed re-running the unit tests to make sure we did not break anything!"
   ]
  }
 ],
 "metadata": {
  "kernelspec": {
   "display_name": "Python 3",
   "language": "python",
   "name": "python3"
  },
  "language_info": {
   "codemirror_mode": {
    "name": "ipython",
    "version": 3
   },
   "file_extension": ".py",
   "mimetype": "text/x-python",
   "name": "python",
   "nbconvert_exporter": "python",
   "pygments_lexer": "ipython3",
   "version": "3.7.4"
  }
 },
 "nbformat": 4,
 "nbformat_minor": 2
}
